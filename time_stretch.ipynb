{
 "cells": [
  {
   "cell_type": "code",
   "execution_count": 17,
   "id": "indirect-excerpt",
   "metadata": {},
   "outputs": [
    {
     "name": "stdout",
     "output_type": "stream",
     "text": [
      "16000 8000\n",
      "16000\n"
     ]
    }
   ],
   "source": [
    "import librosa\n",
    "import soundfile as sf\n",
    "\n",
    "data, sr = librosa.load('C://Users/jason/jupyter/audio/audio_data/Phone/Hi,BB_Phone_resampled/hibb/M_C_S_AR72_0108_1.wav', sr=None)\n",
    "\n",
    "fast = librosa.effects.time_stretch(data, 2.0)\n",
    "\n",
    "destination = \"C://Users/jason/jupyter/audio/audio_data/Phone/Hi,BB_Phone_resampled/M_C_S_AR72_0108_1.wav\"\n",
    "\n",
    "sf.write(destination, fast, int(sr/2))\n",
    "\n",
    "print(len(data), len(fast))\n",
    "print(sr)\n",
    "\n"
   ]
  }
 ],
 "metadata": {
  "kernelspec": {
   "display_name": "Python 3",
   "language": "python",
   "name": "python3"
  },
  "language_info": {
   "codemirror_mode": {
    "name": "ipython",
    "version": 3
   },
   "file_extension": ".py",
   "mimetype": "text/x-python",
   "name": "python",
   "nbconvert_exporter": "python",
   "pygments_lexer": "ipython3",
   "version": "3.7.4"
  }
 },
 "nbformat": 4,
 "nbformat_minor": 5
}
