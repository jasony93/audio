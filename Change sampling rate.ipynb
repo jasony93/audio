{
 "cells": [
  {
   "cell_type": "code",
   "execution_count": 16,
   "metadata": {},
   "outputs": [
    {
     "name": "stdout",
     "output_type": "stream",
     "text": [
      "Requirement already satisfied: SoundFile in c:\\users\\jason\\appdata\\local\\programs\\python\\python37-32\\lib\\site-packages (0.10.3.post1)\n",
      "Requirement already satisfied: cffi>=1.0 in c:\\users\\jason\\appdata\\local\\programs\\python\\python37-32\\lib\\site-packages (from SoundFile) (1.14.4)\n",
      "Requirement already satisfied: pycparser in c:\\users\\jason\\appdata\\local\\programs\\python\\python37-32\\lib\\site-packages (from cffi>=1.0->SoundFile) (2.20)\n"
     ]
    },
    {
     "name": "stderr",
     "output_type": "stream",
     "text": [
      "WARNING: You are using pip version 19.2.3, however version 21.0 is available.\n",
      "You should consider upgrading via the 'python -m pip install --upgrade pip' command.\n"
     ]
    }
   ],
   "source": [
    "!pip install SoundFile"
   ]
  },
  {
   "cell_type": "code",
   "execution_count": 29,
   "metadata": {},
   "outputs": [
    {
     "name": "stdout",
     "output_type": "stream",
     "text": [
      "['test.m4a', 'test.wav']\n"
     ]
    }
   ],
   "source": [
    "import os\n",
    "import glob\n",
    "\n",
    "os.chdir('Z://AI/Hi,BB/2021.01.08(금)/양준영/Slience/핸드폰')\n",
    "\n",
    "# glob_dir = glob.glob(\"*/\")\n",
    "glob_files = glob.glob(\"*\")\n",
    "# directories = [f[:-1] for f in glob_dir]\n",
    "\n",
    "print(glob_files)\n",
    "\n",
    "# os.chdir('C://Users/jason/OneDrive/Desktop/jupyter/audio/audio_data/Positive_Data_Phone')\n",
    "# glob_positive = glob.glob(\"*\")\n",
    "# directories_positive = [os.path.basename(f) for f in glob_positive]\n",
    "\n",
    "\n",
    "# print(directories_positive)"
   ]
  },
  {
   "cell_type": "code",
   "execution_count": 25,
   "metadata": {},
   "outputs": [
    {
     "name": "stdout",
     "output_type": "stream",
     "text": [
      "test.m4a\n"
     ]
    }
   ],
   "source": [
    "for filename in glob_files:\n",
    "    print(filename)\n",
    "    os.system('ffmpeg -i {} -f wav -ab 16000 -vn {}.wav'.format(filename, filename[:-4]))"
   ]
  },
  {
   "cell_type": "code",
   "execution_count": 30,
   "metadata": {},
   "outputs": [
    {
     "name": "stdout",
     "output_type": "stream",
     "text": [
      "44100\n"
     ]
    }
   ],
   "source": [
    "import numpy as np\n",
    "import sys\n",
    "import glob\n",
    "import os\n",
    "import IPython.display as ipd\n",
    "from scipy.io import wavfile\n",
    "from IPython.display import Audio\n",
    "import librosa\n",
    "import soundfile as sf\n",
    "\n",
    "TARGET_SR = 16000\n",
    "\n",
    "def audio_export(file_name, data, samplerate):\n",
    "    wavfile.write(file_name + '_sr_{}.wav'.format(str(samplerate)), samplerate, data.astype(np.int16))\n",
    "\n",
    "def show_array(file_name):\n",
    "    samplerate, data = wavfile.read(file_name)\n",
    "    print(data.shape, data[:10])\n",
    "    \n",
    "def modify_sr(file_name):\n",
    "    samplerate, data = wavfile.read(file_name)\n",
    "    data_modified = [intensity for index, intensity in enumerate(data) if index % 2 == 0]\n",
    "    print(len(data_modified))\n",
    "    audio_export(file_name[:-4], np.array(data_modified), len(data_modified))\n",
    "    \n",
    "def change_sr(file_name, destination, target_sr=TARGET_SR):\n",
    "#     sr, data = wavfile.read(file_name)\n",
    "    data, sr = librosa.load(file_name, sr=None)\n",
    "    resampled = librosa.resample(data, sr, target_sr)\n",
    "    sf.write(destination, resampled, target_sr)\n",
    "    print(sr)\n",
    "#     print(data[:10])\n",
    "#     print(data.shape, resampled.shape)\n",
    "    \n",
    "    \n",
    "#     for index, intensity in enumerate(data):\n",
    "#         print(index, intensity)\n",
    "\n",
    "# change_sr(files[1])\n",
    "\n",
    "# Negative Dataset\n",
    "\n",
    "# for _dir in directories[6:]:\n",
    "    \n",
    "#     os.chdir('C://Users/jason/OneDrive/Desktop/jupyter/audio/audio_data/Hi,BB_Phone/{}'.format(_dir))\n",
    "#     glob_array = glob.glob('*')\n",
    "#     files = [os.path.basename(f) for f in glob_array]\n",
    "#     print(_dir)\n",
    "    \n",
    "#     for f in files:\n",
    "#         change_sr(f, 'C://Users/jason/OneDrive/Desktop/jupyter/audio/audio_data/Hi,BB_Phone_resampled/{}/{}'.format(_dir,f))\n",
    "        \n",
    "        \n",
    "for file in glob_files[1:]:\n",
    "    \n",
    "    change_sr(file, 'Z://AI/Hi,BB/2021.01.08(금)/양준영/Slience/핸드폰/{}'.format(file))\n",
    "        \n",
    "    "
   ]
  },
  {
   "cell_type": "code",
   "execution_count": null,
   "metadata": {},
   "outputs": [],
   "source": []
  }
 ],
 "metadata": {
  "kernelspec": {
   "display_name": "Python 3",
   "language": "python",
   "name": "python3"
  },
  "language_info": {
   "codemirror_mode": {
    "name": "ipython",
    "version": 3
   },
   "file_extension": ".py",
   "mimetype": "text/x-python",
   "name": "python",
   "nbconvert_exporter": "python",
   "pygments_lexer": "ipython3",
   "version": "3.7.4"
  }
 },
 "nbformat": 4,
 "nbformat_minor": 4
}
