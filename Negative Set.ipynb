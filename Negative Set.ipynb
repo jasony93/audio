{
 "cells": [
  {
   "cell_type": "markdown",
   "metadata": {},
   "source": [
    "# 주행/대화"
   ]
  },
  {
   "cell_type": "code",
   "execution_count": 10,
   "metadata": {},
   "outputs": [
    {
     "name": "stdout",
     "output_type": "stream",
     "text": [
      "10306\n"
     ]
    }
   ],
   "source": [
    "import os\n",
    "import glob\n",
    "\n",
    "os.chdir('C://Users/jason/OneDrive/Desktop/jupyter/audio/audio_data/Whole_Data_Phone/youtube_silence1_samples')\n",
    "\n",
    "files_m4a = glob.glob(\"./*.wav\")\n",
    "files = [os.path.basename(f) for f in files_m4a]\n",
    "# files[:10]\n",
    "print(len(files))"
   ]
  },
  {
   "cell_type": "code",
   "execution_count": 11,
   "metadata": {},
   "outputs": [],
   "source": [
    "import random\n",
    "import shutil\n",
    "\n",
    "random.seed(0)\n",
    "\n",
    "random.shuffle(files)\n",
    "files = files[:2000]\n",
    "# print(files)\n",
    "\n",
    "destination_path = \"C://Users/jason/OneDrive/Desktop/jupyter/audio/audio_data/Negative_Data_Phone/youtube_silence_samples\"\n",
    "\n",
    "\n",
    "# COPY\n",
    "for filename in files:\n",
    "    shutil.copyfile(filename, destination_path + \"/{}\".format(filename))\n",
    "    \n",
    "# n = random.randint(0,22)\n",
    "# randomlist = random.sample(range(10,20), 5)\n",
    "# print(randomlist)"
   ]
  },
  {
   "cell_type": "code",
   "execution_count": null,
   "metadata": {},
   "outputs": [],
   "source": []
  }
 ],
 "metadata": {
  "kernelspec": {
   "display_name": "Python 3",
   "language": "python",
   "name": "python3"
  },
  "language_info": {
   "codemirror_mode": {
    "name": "ipython",
    "version": 3
   },
   "file_extension": ".py",
   "mimetype": "text/x-python",
   "name": "python",
   "nbconvert_exporter": "python",
   "pygments_lexer": "ipython3",
   "version": "3.9.1"
  }
 },
 "nbformat": 4,
 "nbformat_minor": 4
}
