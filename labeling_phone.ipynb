{
 "cells": [
  {
   "cell_type": "markdown",
   "metadata": {},
   "source": [
    "# Convert m4a to wav"
   ]
  },
  {
   "cell_type": "code",
   "execution_count": 20,
   "metadata": {},
   "outputs": [
    {
     "name": "stdout",
     "output_type": "stream",
     "text": [
      "C:\\Users\\jason\\OneDrive\\Desktop\\jupyter\\audio\\audio_data\\labeling_samples\n"
     ]
    },
    {
     "data": {
      "text/plain": [
       "0"
      ]
     },
     "execution_count": 20,
     "metadata": {},
     "output_type": "execute_result"
    }
   ],
   "source": [
    "import os\n",
    "\n",
    "# Root = \"audio_data/\"\n",
    "filename = \"female_phone_2\"\n",
    "destination = filename\n",
    "os.chdir('C://Users/jason/OneDrive/Desktop/jupyter/audio/audio_data/labeling_samples')\n",
    "print(os.getcwd())\n",
    "# ffmpeg 설정이 필수\n",
    "os.system('ffmpeg -i {} -f wav -ab 16000 -vn {}.wav'.format(filename + \".m4a\", destination))"
   ]
  },
  {
   "cell_type": "markdown",
   "metadata": {},
   "source": [
    "# Wave plot"
   ]
  },
  {
   "cell_type": "code",
   "execution_count": 21,
   "metadata": {},
   "outputs": [
    {
     "name": "stderr",
     "output_type": "stream",
     "text": [
      "<ipython-input-21-01d73e277bcb>:46: RuntimeWarning: invalid value encountered in double_scalars\n",
      "  sub_data = [sound ** 1.2 for sound in lowered_noise]\n",
      "<ipython-input-21-01d73e277bcb>:46: RuntimeWarning: invalid value encountered in power\n",
      "  sub_data = [sound ** 1.2 for sound in lowered_noise]\n"
     ]
    },
    {
     "data": {
      "image/png": "[encoded data removed]",
      "text/plain": [
       "<Figure size 1800x1800 with 1 Axes>"
      ]
     },
     "metadata": {
      "needs_background": "light"
     },
     "output_type": "display_data"
    }
   ],
   "source": [
    "import matplotlib.pyplot as plt\n",
    "import numpy as np\n",
    "import wave\n",
    "import sys\n",
    "import os\n",
    "import IPython.display as ipd\n",
    "from scipy.io import wavfile\n",
    "from IPython.display import Audio\n",
    "import matplotlib.patches as mpatches\n",
    "import math\n",
    "\n",
    "os.chdir('C://Users/jason/OneDrive/Desktop/jupyter/audio/audio_data/labeling_samples')\n",
    "file_name1 = 'female_phone_2'\n",
    "fig = plt.figure(figsize=(25,25))\n",
    "\n",
    "def plot_wav(file_name, index):\n",
    "    samplerate, data = wavfile.read(file_name + '.wav')\n",
    "\n",
    "    global fig\n",
    "    subplt = plt.subplot(2, 2, index)\n",
    "    subplt.set_ylim(0,25000)\n",
    "\n",
    "    subplt.spines['bottom'].set_color('black')\n",
    "    subplt.tick_params(axis='x', colors='black')\n",
    "    subplt.spines['left'].set_color('black')\n",
    "    subplt.tick_params(axis='y', colors='black')\n",
    "\n",
    "    plt.title(file_name, fontdict={'fontsize': 20, 'color': 'black'})\n",
    "    \n",
    "    data = data[:int(len(data)/10)]  # PHONE\n",
    "\n",
    "    lowered_noise = [sound/10 if abs(sound) < 800 else sound for sound in data]\n",
    "    sub_data = [sound ** 1.2 for sound in lowered_noise]\n",
    "\n",
    "    #phone\n",
    "    plt.plot(sub_data, 'b', label=\"modified\")\n",
    "\n",
    "\n",
    "plot_wav(file_name1, 1)\n",
    "plt.show()"
   ]
  },
  {
   "cell_type": "markdown",
   "metadata": {},
   "source": [
    "# 자르기 "
   ]
  },
  {
   "cell_type": "code",
   "execution_count": 1,
   "metadata": {},
   "outputs": [
    {
     "name": "stderr",
     "output_type": "stream",
     "text": [
      "<ipython-input-1-7b46771cb180>:48: RuntimeWarning: invalid value encountered in double_scalars\n",
      "  sub_data = [sound ** 1.2 for sound in lowered_noise]\n",
      "<ipython-input-1-7b46771cb180>:48: RuntimeWarning: invalid value encountered in power\n",
      "  sub_data = [sound ** 1.2 for sound in lowered_noise]\n"
     ]
    }
   ],
   "source": [
    "import numpy as np\n",
    "import sys\n",
    "import os\n",
    "import IPython.display as ipd\n",
    "from scipy.io import wavfile\n",
    "from IPython.display import Audio\n",
    "\n",
    "os.chdir('C://Users/jason/OneDrive/Desktop/jupyter/audio/audio_data/labeling_samples')\n",
    "file_name = 'female_phone_2'\n",
    "\n",
    "if not os.path.exists(file_name + '_samples'):\n",
    "    os.mkdir(file_name + '_samples')\n",
    "# os.chdir(file_name + '_samples')\n",
    "THRESHOLD = 20000\n",
    "SAMPLE_LENGTH = 1  #1초\n",
    "SHIFT = 0.15 #0.1초\n",
    "\n",
    "def audio_export(file_name, file_index, data, samplerate):\n",
    "    wavfile.write(file_name + '_{}.wav'.format(file_index), samplerate, data.astype(np.int16))\n",
    "    \n",
    "\n",
    "def filter_silence(data, samplerate, threshold=THRESHOLD, sample_length=SAMPLE_LENGTH):\n",
    "    \n",
    "    frames_in_sample = int(sample_length * samplerate)\n",
    "    over_threshold_counter = 0\n",
    "    \n",
    "    for sound in data:\n",
    "        if sound > THRESHOLD:\n",
    "            over_threshold_counter += 1\n",
    "      \n",
    "    # 0.001% 의 소리가 threshold를 넘으면 true를 반환한다.\n",
    "    if (over_threshold_counter / frames_in_sample) > 0.00001:\n",
    "        return True\n",
    "    else:\n",
    "        return False\n",
    "\n",
    "def sampling(file_name, threshold=THRESHOLD, sample_length=SAMPLE_LENGTH, shift=SHIFT):\n",
    "    \n",
    "    samplerate, data = wavfile.read(file_name + '.wav')\n",
    "    os.chdir('C://Users/jason/OneDrive/Desktop/jupyter/audio/audio_data/labeling_samples/' + file_name + '_samples')\n",
    "    frames_in_sample = int(sample_length * samplerate)\n",
    "    frames_in_shift = int(shift * samplerate)\n",
    "    frames_in_jump = int(0.5 * samplerate)\n",
    "\n",
    "    # 임시로 데이터를 사이즈 줄인다\n",
    "#     data = data[:int(len(data)/10)]\n",
    "    lowered_noise = [sound/10 if abs(sound) < 800 else sound for sound in data]\n",
    "    sub_data = [sound ** 1.2 for sound in lowered_noise]\n",
    "    start_index = 0\n",
    "    end_index = 0\n",
    "    file_index = 1\n",
    "    \n",
    "    for i, intensity in enumerate(sub_data):\n",
    "        \n",
    "        if i > end_index + frames_in_shift * 2:\n",
    "        \n",
    "            if intensity > threshold:\n",
    "\n",
    "                start_index = i - frames_in_shift\n",
    "                end_index = start_index + frames_in_sample\n",
    "\n",
    "                # 오디오 파일 처음에 음성이 짤려서 나오거나 마지막에 음성이 짤리면 데이터를 버린다\n",
    "                if start_index < 0:\n",
    "                    end_index = i + frames_in_jump\n",
    "                \n",
    "                if end_index > len(data):\n",
    "                    break\n",
    "                \n",
    "                if start_index > 0 and end_index < len(data) and filter_silence(sub_data[start_index:end_index], samplerate):\n",
    "                    audio_export(file_name, file_index, data[start_index:end_index], samplerate)\n",
    "                    file_index += 1\n",
    "                    \n",
    "\n",
    "sampling(file_name)\n"
   ]
  }
 ],
 "metadata": {
  "kernelspec": {
   "display_name": "Python 3",
   "language": "python",
   "name": "python3"
  },
  "language_info": {
   "codemirror_mode": {
    "name": "ipython",
    "version": 3
   },
   "file_extension": ".py",
   "mimetype": "text/x-python",
   "name": "python",
   "nbconvert_exporter": "python",
   "pygments_lexer": "ipython3",
   "version": "3.7.4"
  }
 },
 "nbformat": 4,
 "nbformat_minor": 4
}
