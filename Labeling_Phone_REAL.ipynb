{
 "cells": [
  {
   "cell_type": "markdown",
   "metadata": {},
   "source": [
    "# List Files "
   ]
  },
  {
   "cell_type": "code",
   "execution_count": 3,
   "metadata": {},
   "outputs": [
    {
     "data": {
      "text/plain": [
       "['M_C_S_AR72_0108.m4a',\n",
       " 'M_C_S_AR73_0113.m4a',\n",
       " 'M_C_S_AR74_0115.m4a',\n",
       " 'M_C_S_arkim_0115.m4a',\n",
       " 'M_C_S_ciyoon_0112.m4a',\n",
       " 'M_C_S_dhlee_0113.m4a',\n",
       " 'M_C_S_dwjung_0115.m4a',\n",
       " 'M_C_S_ehpark_0108.m4a',\n",
       " 'M_C_S_eschoi_0112.m4a',\n",
       " 'M_C_S_jaredjeong_0112.m4a',\n",
       " 'M_C_S_jcko_0113.m4a',\n",
       " 'M_C_S_jhkim_0115.m4a',\n",
       " 'M_C_S_jjkim_0114.m4a',\n",
       " 'M_C_S_jmdo_0112.m4a',\n",
       " 'M_C_S_jrshin_0111.m4a',\n",
       " 'M_C_S_jskim_0113.m4a',\n",
       " 'M_C_S_jyyang_0108.m4a',\n",
       " 'M_C_S_kimjh_0111.m4a',\n",
       " 'M_C_S_kmjoo_0113.m4a',\n",
       " 'M_C_S_leehj_0111.m4a',\n",
       " 'M_C_S_mhnam_0115.m4a',\n",
       " 'M_C_S_sjkim_0108.m4a',\n",
       " 'M_C_S_sjpark_0108.m4a',\n",
       " 'M_C_S_sjshin_0111.m4a',\n",
       " 'M_C_S_smlee_0108.m4a',\n",
       " 'M_C_S_tykim_0112.m4a',\n",
       " 'M_C_S_ymkim_0115.m4a']"
      ]
     },
     "execution_count": 3,
     "metadata": {},
     "output_type": "execute_result"
    }
   ],
   "source": [
    "import os\n",
    "import glob\n",
    "\n",
    "os.chdir('C://Users/jason/OneDrive/Desktop/jupyter/audio/audio_data/Hi,BB_Phone_01-18')\n",
    "\n",
    "files_m4a = glob.glob(\"./*.m4a\")\n",
    "files = [os.path.basename(f) for f in files_m4a]\n",
    "files\n",
    "# files\n",
    "# files = [f for f in os.listdir('./')]\n",
    "# files\n",
    "\n"
   ]
  },
  {
   "cell_type": "markdown",
   "metadata": {},
   "source": [
    "# Convert m4a to wav "
   ]
  },
  {
   "cell_type": "code",
   "execution_count": 6,
   "metadata": {},
   "outputs": [],
   "source": [
    "for filename in files:\n",
    "    os.system('ffmpeg -i {} -f wav -ab 16000 -vn {}.wav'.format(filename, filename[:-4]))\n"
   ]
  },
  {
   "cell_type": "markdown",
   "metadata": {},
   "source": [
    "# Sampling"
   ]
  },
  {
   "cell_type": "code",
   "execution_count": 4,
   "metadata": {},
   "outputs": [
    {
     "name": "stderr",
     "output_type": "stream",
     "text": [
      "<ipython-input-4-01162ef2b640>:43: RuntimeWarning: invalid value encountered in double_scalars\n",
      "  sub_data = [sound ** 1.2 for sound in lowered_noise]\n",
      "<ipython-input-4-01162ef2b640>:43: RuntimeWarning: invalid value encountered in power\n",
      "  sub_data = [sound ** 1.2 for sound in lowered_noise]\n"
     ]
    },
    {
     "name": "stdout",
     "output_type": "stream",
     "text": [
      "M_C_S_AR72_0108 182\n",
      "M_C_S_AR73_0113 651\n",
      "M_C_S_AR74_0115 644\n",
      "M_C_S_arkim_0115 540\n",
      "M_C_S_ciyoon_0112 406\n",
      "M_C_S_dhlee_0113 488\n",
      "M_C_S_dwjung_0115 442\n",
      "M_C_S_ehpark_0108 176\n",
      "M_C_S_eschoi_0112 460\n",
      "M_C_S_jaredjeong_0112 609\n",
      "M_C_S_jcko_0113 401\n",
      "M_C_S_jhkim_0115 662\n",
      "M_C_S_jjkim_0114 485\n",
      "M_C_S_jmdo_0112 371\n",
      "M_C_S_jrshin_0111 228\n",
      "M_C_S_jskim_0113 472\n",
      "M_C_S_jyyang_0108 175\n",
      "M_C_S_kimjh_0111 261\n",
      "M_C_S_kmjoo_0113 393\n",
      "M_C_S_leehj_0111 308\n",
      "M_C_S_mhnam_0115 620\n",
      "M_C_S_sjkim_0108 158\n",
      "M_C_S_sjpark_0108 207\n",
      "M_C_S_sjshin_0111 350\n",
      "M_C_S_smlee_0108 156\n",
      "M_C_S_tykim_0112 546\n",
      "M_C_S_ymkim_0115 554\n"
     ]
    }
   ],
   "source": [
    "import numpy as np\n",
    "import sys\n",
    "import glob\n",
    "import os\n",
    "import IPython.display as ipd\n",
    "from scipy.io import wavfile\n",
    "from IPython.display import Audio\n",
    "\n",
    "THRESHOLD = 20000\n",
    "SAMPLE_LENGTH = 1  #1초\n",
    "SHIFT = 0.15 #0.1초\n",
    "\n",
    "def audio_export(file_name, file_index, data, samplerate):\n",
    "    wavfile.write(file_name + '_{}.wav'.format(file_index), samplerate, data.astype(np.int16))\n",
    "    \n",
    "\n",
    "def filter_silence(data, samplerate, threshold=THRESHOLD, sample_length=SAMPLE_LENGTH):\n",
    "    \n",
    "    frames_in_sample = int(sample_length * samplerate)\n",
    "    over_threshold_counter = 0\n",
    "    \n",
    "    for sound in data:\n",
    "        if sound > THRESHOLD:\n",
    "            over_threshold_counter += 1\n",
    "      \n",
    "    # 0.001% 의 소리가 threshold를 넘으면 true를 반환한다.\n",
    "    if (over_threshold_counter / frames_in_sample) > 0.00001:\n",
    "        return True\n",
    "    else:\n",
    "        return False\n",
    "\n",
    "def sampling(file_name, threshold=THRESHOLD, sample_length=SAMPLE_LENGTH, shift=SHIFT):\n",
    "    \n",
    "    samplerate, data = wavfile.read(file_name + \".wav\")\n",
    "    os.chdir('C://Users/jason/OneDrive/Desktop/jupyter/audio/audio_data/Hi,BB_Phone_01-18/' + file_name)\n",
    "    frames_in_sample = int(sample_length * samplerate)\n",
    "    frames_in_shift = int(shift * samplerate)\n",
    "    frames_in_jump = int(0.5 * samplerate)\n",
    "\n",
    "    # 임시로 데이터를 사이즈 줄인다\n",
    "#     data = data[:int(len(data)/10)]\n",
    "    lowered_noise = [sound/10 if abs(sound) < 800 else sound for sound in data]\n",
    "    sub_data = [sound ** 1.2 for sound in lowered_noise]\n",
    "    start_index = 0\n",
    "    end_index = 0\n",
    "    file_index = 1\n",
    "    \n",
    "    for i, intensity in enumerate(sub_data):\n",
    "        \n",
    "        if i > end_index + frames_in_shift * 2:\n",
    "        \n",
    "            if intensity > threshold:\n",
    "\n",
    "                start_index = i - frames_in_shift\n",
    "                end_index = start_index + frames_in_sample\n",
    "\n",
    "                # 오디오 파일 처음에 음성이 짤려서 나오거나 마지막에 음성이 짤리면 데이터를 버린다\n",
    "                if start_index < 0:\n",
    "                    end_index = i + frames_in_jump\n",
    "                \n",
    "                if end_index > len(data):\n",
    "                    break\n",
    "                \n",
    "                if start_index > 0 and end_index < len(data) and filter_silence(sub_data[start_index:end_index], samplerate):\n",
    "                    audio_export(file_name, file_index, data[start_index:end_index], samplerate)\n",
    "                    file_index += 1\n",
    "                    \n",
    "    \n",
    "    print(file_name, file_index)\n",
    "                    \n",
    "\n",
    "                    \n",
    "files_wav = glob.glob(\"./*.wav\")\n",
    "files = [os.path.basename(f) for f in files_wav]\n",
    "\n",
    "for filename in files:\n",
    "    \n",
    "    if not os.path.exists(filename[:-4]):\n",
    "        os.mkdir(filename[:-4])\n",
    "    \n",
    "    sampling(filename[:-4])\n",
    "    os.chdir('C://Users/jason/OneDrive/Desktop/jupyter/audio/audio_data/Hi,BB_Phone_01-18')\n"
   ]
  }
 ],
 "metadata": {
  "kernelspec": {
   "display_name": "Python 3",
   "language": "python",
   "name": "python3"
  },
  "language_info": {
   "codemirror_mode": {
    "name": "ipython",
    "version": 3
   },
   "file_extension": ".py",
   "mimetype": "text/x-python",
   "name": "python",
   "nbconvert_exporter": "python",
   "pygments_lexer": "ipython3",
   "version": "3.7.4"
  }
 },
 "nbformat": 4,
 "nbformat_minor": 4
}
