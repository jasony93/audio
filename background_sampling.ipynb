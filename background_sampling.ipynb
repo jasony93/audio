{
 "cells": [
  {
   "cell_type": "code",
   "execution_count": 1,
   "metadata": {},
   "outputs": [],
   "source": [
    "import numpy as np\n",
    "import sys\n",
    "import os\n",
    "import IPython.display as ipd\n",
    "from scipy.io import wavfile\n",
    "from IPython.display import Audio\n",
    "\n",
    "# os.chdir('C://Users/jason/OneDrive/Desktop/jupyter/audio/audio_data/Whole_Data_Phone')\n",
    "\n",
    "OVERLAP = 0.5       #0.5초 겹침\n",
    "SAMPLE_LENGTH = 1   #1초 단위\n",
    "\n",
    "def audio_export(file_name, file_index, data, samplerate):\n",
    "    wavfile.write(file_name + '_{}.wav'.format(file_index), samplerate, data.astype(np.int16))\n",
    "\n",
    "def sampling(file_name, overlap=OVERLAP, sample_length=SAMPLE_LENGTH):\n",
    "    \n",
    "    samplerate, data = wavfile.read(file_name + '.wav')\n",
    "    frames_in_sample = int(sample_length * samplerate)\n",
    "    frames_in_overlap = int(overlap * samplerate)\n",
    "    file_idx = 1\n",
    "    \n",
    "#     data = data[:int(len(data)/100)]\n",
    "    \n",
    "#     if not os.path.exists(file_name + '_samples'):\n",
    "#         os.mkdir(file_name + '_samples')\n",
    "        \n",
    "#     os.chdir('C://Users/jason/OneDrive/Desktop/jupyter/audio/audio_data/Youtube/{}'.format(file_name + '_samples'))\n",
    "\n",
    "    os.chdir('C://Users/jason/OneDrive/Desktop/jupyter/audio/audio_data/Whole_Data_Phone/driving_noise_samples')\n",
    "    \n",
    "    for i in range(0,int(len(data) / frames_in_sample / overlap)):\n",
    "        \n",
    "        if i * frames_in_sample * overlap + frames_in_sample > len(data):\n",
    "            break\n",
    "        else:\n",
    "            start_idx = i * (frames_in_sample - frames_in_overlap)\n",
    "            end_idx = start_idx + frames_in_sample\n",
    "            \n",
    "            data_sample = data[start_idx:end_idx]\n",
    "            audio_export(file_name, file_idx, data_sample, samplerate)\n",
    "            file_idx += 1\n",
    "            \n",
    "    print(file_idx)"
   ]
  },
  {
   "cell_type": "code",
   "execution_count": 2,
   "metadata": {},
   "outputs": [
    {
     "data": {
      "text/plain": [
       "['20201217_143813_F_Nor.wav',\n",
       " '20201217_144147_F_Nor.wav',\n",
       " '20201217_144217_F_Nor.wav',\n",
       " '20201217_144248_F_Nor.wav',\n",
       " '20201217_144419_F_Nor.wav',\n",
       " '20201217_144726_F_Nor.wav',\n",
       " '20201217_144757_F_Nor.wav',\n",
       " '20201217_144827_F_Nor.wav',\n",
       " '20201217_144858_F_Nor.wav',\n",
       " '20201217_145029_F_Nor.wav',\n",
       " '20201217_145930_F_Nor.wav',\n",
       " '20201217_150001_F_Nor.wav',\n",
       " '20201217_150102_F_Nor.wav',\n",
       " '20201217_150203_F_Nor.wav',\n",
       " '20201217_150234_F_Nor.wav',\n",
       " '20201217_150335_F_Nor.wav',\n",
       " '20201217_150436_F_Nor.wav',\n",
       " '20201217_150506_F_Nor.wav',\n",
       " '20201217_150638_F_Nor.wav',\n",
       " '20201217_150708_F_Nor.wav',\n",
       " '20201217_151012_F_Nor.wav',\n",
       " '20201217_151143_F_Nor.wav',\n",
       " '20201217_151214_F_Nor.wav',\n",
       " '20201217_151346_F_Nor.wav',\n",
       " '20201217_151649_F_Nor.wav',\n",
       " '20201217_151719_F_Nor.wav',\n",
       " '20201217_151821_F_Nor.wav',\n",
       " '20201217_152629_F_Nor.wav',\n",
       " '20201217_153033_F_Nor.wav',\n",
       " '20201217_154045_F_Nor.wav',\n",
       " '20201217_154115_F_Nor.wav',\n",
       " '20201217_155601_F_Nor.wav',\n",
       " '20201217_155631_F_Nor.wav',\n",
       " '20201217_155702_F_Nor.wav',\n",
       " '20201217_155732_F_Nor.wav',\n",
       " '20201217_155803_F_Nor.wav']"
      ]
     },
     "execution_count": 2,
     "metadata": {},
     "output_type": "execute_result"
    }
   ],
   "source": [
    "import os\n",
    "import glob\n",
    "\n",
    "os.chdir('C://Users/jason/OneDrive/Desktop/jupyter/audio/audio_data/Whole_Data_Phone/driving_noise_talking')\n",
    "\n",
    "files_m4a = glob.glob(\"./*.wav\")\n",
    "files = [os.path.basename(f) for f in files_m4a]\n",
    "files"
   ]
  },
  {
   "cell_type": "code",
   "execution_count": 3,
   "metadata": {},
   "outputs": [
    {
     "name": "stdout",
     "output_type": "stream",
     "text": [
      "61\n",
      "61\n",
      "61\n",
      "61\n",
      "61\n",
      "61\n",
      "61\n",
      "61\n",
      "61\n",
      "61\n",
      "61\n",
      "61\n",
      "61\n",
      "61\n",
      "61\n",
      "61\n",
      "61\n",
      "61\n",
      "61\n",
      "61\n",
      "61\n",
      "61\n",
      "61\n",
      "61\n",
      "61\n",
      "61\n",
      "61\n",
      "61\n",
      "61\n",
      "61\n",
      "61\n",
      "61\n",
      "61\n",
      "61\n",
      "61\n",
      "61\n"
     ]
    }
   ],
   "source": [
    "for filename in files:\n",
    "    os.chdir('C://Users/jason/OneDrive/Desktop/jupyter/audio/audio_data/Whole_Data_Phone/driving_noise_talking')\n",
    "    sampling(filename[:-4])"
   ]
  }
 ],
 "metadata": {
  "kernelspec": {
   "display_name": "Python 3",
   "language": "python",
   "name": "python3"
  },
  "language_info": {
   "codemirror_mode": {
    "name": "ipython",
    "version": 3
   },
   "file_extension": ".py",
   "mimetype": "text/x-python",
   "name": "python",
   "nbconvert_exporter": "python",
   "pygments_lexer": "ipython3",
   "version": "3.9.1"
  }
 },
 "nbformat": 4,
 "nbformat_minor": 4
}
