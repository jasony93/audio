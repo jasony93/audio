{
 "cells": [
  {
   "cell_type": "markdown",
   "id": "manual-charles",
   "metadata": {},
   "source": [
    "# Pitch 바꾸기"
   ]
  },
  {
   "cell_type": "code",
   "execution_count": 50,
   "id": "designing-conversation",
   "metadata": {},
   "outputs": [
    {
     "name": "stdout",
     "output_type": "stream",
     "text": [
      "(490777,)\n"
     ]
    }
   ],
   "source": [
    "import librosa\n",
    "import os\n",
    "import soundfile as sf\n",
    "\n",
    "data, sr = librosa.load('C://Users/jason/jupyter/audio/audio_data/test/신정례_가까운거_test.wav', sr=None)\n",
    "shifted = librosa.effects.pitch_shift(data, sr, n_steps=1.5)\n",
    "\n",
    "print(shifted.shape)\n",
    "sf.write('C://Users/jason/jupyter/audio/audio_data/test/신정례_shifted1_5.wav', shifted, sr)"
   ]
  },
  {
   "cell_type": "markdown",
   "id": "becoming-phone",
   "metadata": {},
   "source": [
    "# 재생속도 바꾸기"
   ]
  },
  {
   "cell_type": "code",
   "execution_count": 52,
   "id": "rational-lobby",
   "metadata": {},
   "outputs": [
    {
     "name": "stdout",
     "output_type": "stream",
     "text": [
      "490777.19999999995 490777\n"
     ]
    }
   ],
   "source": [
    "import librosa\n",
    "import os\n",
    "import soundfile as sf\n",
    "\n",
    "data, sr = librosa.load('C://Users/jason/jupyter/audio/audio_data/test/신정례_가까운거_test.wav', sr=None)\n",
    "stretched = librosa.effects.time_stretch(data, 1.2)\n",
    "\n",
    "print(len(stretched), len(data))\n",
    "# sf.write('C://Users/jason/jupyter/audio/audio_data/test/신정례_1.2.wav', stretched, sr)"
   ]
  },
  {
   "cell_type": "code",
   "execution_count": 61,
   "id": "charitable-repair",
   "metadata": {},
   "outputs": [],
   "source": [
    "import librosa\n",
    "import os\n",
    "import soundfile as sf\n",
    "import numpy as np\n",
    "\n",
    "data, sr = librosa.load('C://Users/jason/jupyter/audio/audio_data/test/신정례_가까운거_test.wav', sr=None)\n",
    "\n",
    "added = data + 0.2\n",
    "# print(len(stretched), len(data))\n",
    "sf.write('C://Users/jason/jupyter/audio/audio_data/test/added_2.wav', added, sr)"
   ]
  }
 ],
 "metadata": {
  "kernelspec": {
   "display_name": "Python 3",
   "language": "python",
   "name": "python3"
  },
  "language_info": {
   "codemirror_mode": {
    "name": "ipython",
    "version": 3
   },
   "file_extension": ".py",
   "mimetype": "text/x-python",
   "name": "python",
   "nbconvert_exporter": "python",
   "pygments_lexer": "ipython3",
   "version": "3.7.4"
  }
 },
 "nbformat": 4,
 "nbformat_minor": 5
}
