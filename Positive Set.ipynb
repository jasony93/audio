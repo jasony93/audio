{
 "cells": [
  {
   "cell_type": "markdown",
   "metadata": {},
   "source": [
    "# Overlay "
   ]
  },
  {
   "cell_type": "markdown",
   "metadata": {},
   "source": [
    "## Noise, Hibb 파일목록"
   ]
  },
  {
   "cell_type": "code",
   "execution_count": 20,
   "metadata": {},
   "outputs": [
    {
     "name": "stdout",
     "output_type": "stream",
     "text": [
      "10306\n",
      "10596\n"
     ]
    }
   ],
   "source": [
    "import os\n",
    "import glob\n",
    "\n",
    "files_driving_noise = glob.glob(\"C://Users/jason/OneDrive/Desktop/jupyter/audio/audio_data/Whole_Data_Phone/youtube_silence_samples/*.wav\")\n",
    "print(len(files_driving_noise))\n",
    "files_hibb = glob.glob(\"C://Users/jason/OneDrive/Desktop/jupyter/audio/audio_data/Whole_Data_Phone/hibb_silence/*.wav\")\n",
    "print(len(files_hibb))"
   ]
  },
  {
   "cell_type": "code",
   "execution_count": 21,
   "metadata": {},
   "outputs": [],
   "source": [
    "from pydub import AudioSegment\n",
    "import random\n",
    "\n",
    "random.seed(0)\n",
    "\n",
    "random.shuffle(files_driving_noise)\n",
    "random.shuffle(files_hibb)\n",
    "\n",
    "noise_path = \"C://Users/jason/OneDrive/Desktop/jupyter/audio/audio_data/Whole_Data_Phone/driving_phone_noise_samples\"\n",
    "hibb_path = \"C://Users/jason/OneDrive/Desktop/jupyter/audio/audio_data/Whole_Data_Phone/hibb_silence\"\n",
    "\n",
    "for i in range(0,3000):\n",
    "    noise = AudioSegment.from_file(files_driving_noise[i+2000])\n",
    "    hibb = AudioSegment.from_file(files_hibb[i+7000])\n",
    "    overlayed = noise\n",
    "    overlayed = overlayed.overlay(hibb, position=0)\n",
    "    overlayed.export(\"C://Users/jason/OneDrive/Desktop/jupyter/audio/audio_data/Positive_Data_Phone/youtube_silence_samples/youtube_silence_hibb_{}.wav\".format(i+1), format=\"wav\")\n",
    "\n"
   ]
  }
 ],
 "metadata": {
  "kernelspec": {
   "display_name": "Python 3",
   "language": "python",
   "name": "python3"
  },
  "language_info": {
   "codemirror_mode": {
    "name": "ipython",
    "version": 3
   },
   "file_extension": ".py",
   "mimetype": "text/x-python",
   "name": "python",
   "nbconvert_exporter": "python",
   "pygments_lexer": "ipython3",
   "version": "3.9.1"
  }
 },
 "nbformat": 4,
 "nbformat_minor": 4
}
